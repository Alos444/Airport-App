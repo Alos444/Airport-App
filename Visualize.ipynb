{
 "cells": [
  {
   "cell_type": "code",
   "execution_count": 1,
   "metadata": {},
   "outputs": [
    {
     "name": "stdout",
     "output_type": "stream",
     "text": [
      "importing Jupyter notebook from load_data.ipynb\n",
      "importing Jupyter notebook from Null_Handling.ipynb\n",
      "importing Jupyter notebook from Visualize.ipynb\n"
     ]
    }
   ],
   "source": [
    "import csv\n",
    "import json\n",
    "import pandas as pd\n",
    "from tkinter import filedialog\n",
    "# which is used to save file in any extension\n",
    "from tkinter.filedialog import asksaveasfile\n",
    "import tkinter as tk\n",
    "from tkinter import ttk\n",
    "from PIL import Image, ImageTk\n",
    "from tkinter.filedialog import askopenfile\n",
    "from tkinter.font import Font\n",
    "import import_ipynb\n",
    "from pandastable import Table, TableModel,config\n",
    "from tkintertable import TableCanvas\n",
    "import os\n",
    "import missingno as msno\n",
    "import pandas as pd\n",
    "import numpy as np\n",
    "import tkinter as tk\n",
    "from pandas import DataFrame\n",
    "import matplotlib.pyplot as plt\n",
    "from matplotlib.backends.backend_tkagg import FigureCanvasTkAgg\n",
    "import seaborn as sns\n",
    "import load_data \n",
    "import Null_Handling\n",
    "\n",
    "\n",
    "class Display:\n",
    "    def display_dataframe_tables(self,main_place,dataframe,place):\n",
    "        \n",
    "        # main_place is where the dataframe will be placed\n",
    "        \n",
    "        self.f2 = tk.LabelFrame(place) \n",
    "        self.f2.place(height = main_place.height_df, width=main_place.width_df, relx=main_place.place_df_x,rely=main_place.place_df_y)\n",
    "        self.table = Table(self.f2, dataframe=dataframe,read_only=False, showtoolbar=True, showstatusbar=True)\n",
    "        self.table.show()\n",
    "        \n",
    "    def return_dataframe(self,title,filetypes):     \n",
    "            # Select the relevant files\n",
    "            fileNameLabel2 = filedialog.askopenfilename(initialdir = '/Desktop',\n",
    "                                                        title = title,\n",
    "                                                        filetypes = filetypes)\n",
    "            \n",
    "            csv_file_pathOriginal = fileNameLabel2\n",
    "            \n",
    "            # List 2 variable is accessed in Preprocess-Handling columns with null values tab. Hence, made it \n",
    "            file_path_list=csv_file_pathOriginal.split('/')\n",
    "            \n",
    "            print(file_path_list)\n",
    "            \n",
    "            # Create dataframes based on file types\n",
    "            if(title == 'csv'):\n",
    "                df = pd.read_csv(fileNameLabel2,error_bad_lines=False)\n",
    "                df2 = df.describe()\n",
    "                df2[\"Statistics\"]=df2.index\n",
    "                # shift column 'C' to first position\n",
    "                first_column = df2.pop('Statistics')\n",
    "                # insert column using insert(position,column_name,first_column) function\n",
    "                df2.insert(0, 'Statistics', first_column)\n",
    "\n",
    "            else:\n",
    "                df = pd.read_json(fileNameLabel2)   \n",
    "                df2 = df.describe()\n",
    "                df2[\"Statistics\"]=df2.index\n",
    "                # shift column 'C' to first position\n",
    "                first_column = df2.pop('Statistics')\n",
    "                # insert column using insert(position,column_name,first_column) function\n",
    "                df2.insert(0, 'Statistics', first_column)\n",
    "                #print(parent.df2)\n",
    "                #msno.bar(df)\n",
    "                df = df.replace(r'^\\s*$', np.nan, regex=True)\n",
    "                \n",
    "            return(df,df2,file_path_list,csv_file_pathOriginal)\n",
    "        \n",
    "        \n",
    "  "
   ]
  },
  {
   "cell_type": "code",
   "execution_count": null,
   "metadata": {},
   "outputs": [],
   "source": []
  },
  {
   "cell_type": "code",
   "execution_count": null,
   "metadata": {},
   "outputs": [],
   "source": []
  }
 ],
 "metadata": {
  "kernelspec": {
   "display_name": "Python 3 (ipykernel)",
   "language": "python",
   "name": "python3"
  },
  "language_info": {
   "codemirror_mode": {
    "name": "ipython",
    "version": 3
   },
   "file_extension": ".py",
   "mimetype": "text/x-python",
   "name": "python",
   "nbconvert_exporter": "python",
   "pygments_lexer": "ipython3",
   "version": "3.9.12"
  }
 },
 "nbformat": 4,
 "nbformat_minor": 4
}
